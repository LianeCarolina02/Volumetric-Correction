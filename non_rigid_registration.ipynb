{
 "cells": [
  {
   "cell_type": "code",
   "execution_count": 2,
   "metadata": {},
   "outputs": [],
   "source": [
    "\n",
    "import open3d as o3d\n",
    "import copy\n",
    "import numpy as np\n",
    "import surface_acquisition as surface\n",
    "import visualization as vis"
   ]
  },
  {
   "cell_type": "code",
   "execution_count": 9,
   "metadata": {},
   "outputs": [],
   "source": [
    "folder = \"Pacients\"\n",
    "number = 66\n",
    "patient = \"BR0\" + f\"{number}\"\n",
    "\n",
    "digital_twin = f\"{folder}/{patient}/Segment_4.stl\"\n",
    "digital_twin_1 = f\"{folder}/{patient}/try.stl\"\n",
    "surface_scan_path = \"Pacients/BR074/SS74/Scan 1.obj\"\n",
    "surface_digital_twin = f\"{folder}/{patient}/Surface.ply\""
   ]
  },
  {
   "cell_type": "code",
   "execution_count": 10,
   "metadata": {},
   "outputs": [
    {
     "name": "stdout",
     "output_type": "stream",
     "text": [
      "::       Reading mesh\n",
      "::       Sampling Mesh\n",
      "::       Rotation of the pcd\n",
      "::      z_min and half_x: (-24.918293055954663, -36.56111027088511)\n",
      "::      z_min and half_x: (0.0, 0.0)\n",
      "::       Computing Diameter\n",
      "::      Diameter of the pcd is: 591.6888632646235\n",
      "::       Computing limits\n",
      "::      Bounding Limits Max:[(230.14272482848574, 90.82725925377787, 260.5720210522331)\n",
      "::      Bounding Limits Min:[(230.14272482848574, 174.3806546368459, 0.0)]\n"
     ]
    }
   ],
   "source": [
    "pcd = surface.sample_mesh(digital_twin, 2000000)\n",
    "rotated_pcd = surface.rotation_pcd(pcd)\n",
    "diameter = surface.computation_diameter(rotated_pcd)\n",
    "x_max, y_max, z_max, x_min, y_min, z_min = surface.bouding_points(rotated_pcd)"
   ]
  },
  {
   "cell_type": "code",
   "execution_count": 15,
   "metadata": {},
   "outputs": [],
   "source": [
    "all_colors = [[1, 0.706, 0],  # Orange \n",
    "            [1, 0, 0],        # Red\n",
    "            [1, 0, 0],        # Red\n",
    "            [1, 0.5, 0],      # Orange\n",
    "            [1, 0.5, 0],      # Orange\n",
    "            [1, 1, 0],        # Yellow\n",
    "            [1, 1, 0],        # Yellow\n",
    "            [0, 1, 0],        # Green\n",
    "            [0, 1, 0],        # Green\n",
    "            [0, 0, 1],        # Blue\n",
    "            [0, 0, 1],        # Blue\n",
    "            [0.5, 0, 0.5],    # Indigo\n",
    "            [0.5, 0, 0.5],    # Indigo\n",
    "            [1, 0, 1],        # Violet\n",
    "            [1, 0, 1],        # Violet\n",
    "            [0.8, 0.6, 0.1],  # Gold\n",
    "            [0.8, 0.6, 0.1],  # Gold\n",
    "            [1, 0.706, 0],    # Orange \n",
    "            [1, 0.706, 0]    # Orange \n",
    "            ]   "
   ]
  },
  {
   "cell_type": "code",
   "execution_count": 16,
   "metadata": {},
   "outputs": [],
   "source": [
    "all_cameras = {\n",
    "    \"camera_1\": [0, 0, diameter/2],\n",
    "    \"camera_2\": [(-diameter/2), y_max-y_min +abs(y_max-y_min)/4, diameter/5], \n",
    "    \"camera_3\": [(diameter/2), y_max-y_min + abs(y_max-y_min)/4 , diameter/5], \n",
    "    \"camera_4\": [(diameter/2), -100, (diameter - 120) * np.cos(30)],  \n",
    "    \"camera_5\": [-(diameter/2), -100, (diameter - 120) * np.cos(30)],  \n",
    "    \"camera_6\": [(diameter - 320)* np.cos(35), -y_min + abs(y_max-y_min)/6, (diameter - 320)],  \n",
    "    \"camera_7\": [-(diameter - 320)* np.cos(35), -y_min + abs(y_max-y_min)/6, (diameter - 320)],  \n",
    "    \"camera_8\": [(diameter/3) + x_max/3, -y_min + abs(y_max-y_min)/6, (diameter/3) - 50],  \n",
    "    \"camera_9\": [-(diameter/3)-x_min/3, -y_min + abs(y_max-y_min)/6, (diameter/3) - 50],  \n",
    "    \"camera_10\": [(diameter/3), 0, (3*diameter/7)],  \n",
    "    \"camera_11\": [-(diameter/3), 0, (3*diameter/7)],  \n",
    "    \"camera_12\": [(0.22*diameter), -y_min + abs(y_max-y_min)/6, 0.5*diameter],  \n",
    "    \"camera_13\": [-(0.22*diameter), -y_min + abs(y_max-y_min)/6, (0.5 *diameter)], \n",
    "    \"camera_14\": [(diameter/3), -y_min + abs(y_max-y_min)/6, (diameter/2)],  \n",
    "    \"camera_15\": [-(diameter/3), -y_min + abs(y_max-y_min)/6, (diameter/2)],  \n",
    "    \"camera_16\": [(2*diameter/5), -y_min + abs(y_max-y_min)/6, (diameter/4)],  \n",
    "    \"camera_17\": [-(2*diameter/5), -y_min + abs(y_max-y_min)/6, (diameter/4)],\n",
    "    \"camera_18\": [0, -y_min + 60, 1.5 * z_max]\n",
    "}"
   ]
  },
  {
   "cell_type": "code",
   "execution_count": 17,
   "metadata": {},
   "outputs": [
    {
     "name": "stdout",
     "output_type": "stream",
     "text": [
      "::       Computing Diameter\n",
      "::      Diameter of the pcd is: 591.6888632646235\n",
      "::       Computation of the box\n",
      "::       Computing Diameter\n",
      "::      Diameter of the pcd is: 591.6888632646235\n",
      "::      Point Cloud Number 1-th Done\n",
      "::      Point Cloud Number 2-th Done\n",
      "::      Point Cloud Number 3-th Done\n",
      "::      Point Cloud Number 4-th Done\n",
      "::      Point Cloud Number 5-th Done\n",
      "::      Point Cloud Number 6-th Done\n",
      "::      Point Cloud Number 7-th Done\n",
      "::      Point Cloud Number 8-th Done\n",
      "::      Point Cloud Number 9-th Done\n",
      "::      Point Cloud Number 10-th Done\n",
      "::      Point Cloud Number 11-th Done\n",
      "::      Point Cloud Number 12-th Done\n",
      "::      Point Cloud Number 13-th Done\n",
      "::      Point Cloud Number 14-th Done\n",
      "::      Point Cloud Number 15-th Done\n",
      "::      Point Cloud Number 16-th Done\n",
      "::      Point Cloud Number 17-th Done\n",
      "::      Point Cloud Number 18-th Done\n"
     ]
    }
   ],
   "source": [
    "surface.visualize_hpr(rotated_pcd, all_cameras, all_colors)"
   ]
  },
  {
   "cell_type": "code",
   "execution_count": null,
   "metadata": {},
   "outputs": [],
   "source": [
    "surface.final_pcd(rotated_pcd, all_cameras, all_colors, patient)"
   ]
  },
  {
   "cell_type": "code",
   "execution_count": null,
   "metadata": {},
   "outputs": [],
   "source": [
    "\n",
    "vis.visualize_surface_and_all(surface_digital_twin,digital_twin)"
   ]
  },
  {
   "cell_type": "code",
   "execution_count": 12,
   "metadata": {},
   "outputs": [],
   "source": [
    "# Given a x = k and bounded yy ans zz makes a plane\n",
    "def make_plane(plane, y_max, y_min, z_max, z_min):\n",
    "    y_range = np.linspace(y_min, y_max, 500)\n",
    "    z_range = np.linspace(z_min, z_max, 500)\n",
    "\n",
    "    plane_points = [[plane, y, z] for y in y_range for z in z_range]\n",
    "    plane_cloud = o3d.geometry.PointCloud()\n",
    "    plane_cloud.points = o3d.utility.Vector3dVector(plane_points)\n",
    "    plane_cloud.paint_uniform_color((0,0,0))\n",
    "    return plane_cloud"
   ]
  },
  {
   "cell_type": "code",
   "execution_count": 13,
   "metadata": {},
   "outputs": [],
   "source": [
    "def visualize_plane_point_cloud(pcd, planes):\n",
    "    _, y_max, z_max, _, y_min, z_min = surface.bouding_points(pcd)\n",
    "    various_planes = {}\n",
    "    for i, plane in enumerate(planes):\n",
    "        various_planes[f'plane_{i}'] = make_plane(plane, y_max, -y_min, z_max, -z_min)\n",
    "    \n",
    "    # Visualize all planes and the point cloud\n",
    "    all_geometries = [pcd] + list(various_planes.values())\n",
    "    o3d.visualization.draw_geometries(all_geometries)"
   ]
  },
  {
   "cell_type": "code",
   "execution_count": 14,
   "metadata": {},
   "outputs": [
    {
     "name": "stdout",
     "output_type": "stream",
     "text": [
      "::       Computing limits\n",
      "::      Bounding Limits Max:[(230.14272482848574, 90.82725925377787, 260.5720210522331)\n",
      "::      Bounding Limits Min:[(230.14272482848574, 174.3806546368459, 0.0)]\n"
     ]
    }
   ],
   "source": [
    "visualize_plane_point_cloud(rotated_pcd, [-150,-50,0,50,150])"
   ]
  },
  {
   "cell_type": "code",
   "execution_count": null,
   "metadata": {},
   "outputs": [],
   "source": [
    "def planes(planes_list):\n",
    "    _, y_max, z_max, _, y_min, z_min = surface.bouding_points(pcd)\n",
    "    various_planes = {}\n",
    "    for i, plane in enumerate(planes_list):\n",
    "        various_planes[f'plane_{i}'] = make_plane(plane, y_max, -y_min, z_max, -z_min)\n",
    "    \n",
    "    all_geometries = list(various_planes.values())\n",
    "    return all_geometries"
   ]
  },
  {
   "cell_type": "code",
   "execution_count": 15,
   "metadata": {},
   "outputs": [
    {
     "name": "stdout",
     "output_type": "stream",
     "text": [
      "::       Computing limits\n",
      "::      Bounding Limits Max:[(230.19579525036687, 90.80237997823457, 260.5767409635464)\n",
      "::      Bounding Limits Min:[(230.19579525036687, 174.3847327629589, 0.0)]\n"
     ]
    },
    {
     "ename": "TypeError",
     "evalue": "__init__(): incompatible constructor arguments. The following argument types are supported:\n    1. open3d.cpu.pybind.geometry.KDTreeFlann()\n    2. open3d.cpu.pybind.geometry.KDTreeFlann(data: numpy.ndarray[numpy.float64[m, n]])\n    3. open3d.cpu.pybind.geometry.KDTreeFlann(geometry: open3d.cpu.pybind.geometry.Geometry)\n    4. open3d.cpu.pybind.geometry.KDTreeFlann(feature: open3d::pipelines::registration::Feature)\n\nInvoked with: [PointCloud with 1000000 points., PointCloud with 1000000 points.]",
     "output_type": "error",
     "traceback": [
      "\u001b[0;31m---------------------------------------------------------------------------\u001b[0m",
      "\u001b[0;31mTypeError\u001b[0m                                 Traceback (most recent call last)",
      "\u001b[0;32m/var/folders/1m/wmfsxxg15h75p6f5brh_y24h0000gn/T/ipykernel_57533/3064504378.py\u001b[0m in \u001b[0;36m<module>\u001b[0;34m\u001b[0m\n\u001b[1;32m     28\u001b[0m \u001b[0;31m# visualize_plane_point_cloud(rotated_pcd, [-150,0,150])\u001b[0m\u001b[0;34m\u001b[0m\u001b[0;34m\u001b[0m\u001b[0;34m\u001b[0m\u001b[0m\n\u001b[1;32m     29\u001b[0m \u001b[0mall_planes\u001b[0m \u001b[0;34m=\u001b[0m \u001b[0mplanes\u001b[0m\u001b[0;34m(\u001b[0m\u001b[0;34m[\u001b[0m\u001b[0;36m0\u001b[0m\u001b[0;34m,\u001b[0m\u001b[0;36m50\u001b[0m\u001b[0;34m]\u001b[0m\u001b[0;34m)\u001b[0m\u001b[0;34m\u001b[0m\u001b[0;34m\u001b[0m\u001b[0m\n\u001b[0;32m---> 30\u001b[0;31m \u001b[0mintersections_kdtree\u001b[0m\u001b[0;34m(\u001b[0m\u001b[0mrotated_pcd\u001b[0m\u001b[0;34m,\u001b[0m \u001b[0mall_planes\u001b[0m\u001b[0;34m,\u001b[0m \u001b[0;36m0.02\u001b[0m\u001b[0;34m)\u001b[0m\u001b[0;34m\u001b[0m\u001b[0;34m\u001b[0m\u001b[0m\n\u001b[0m",
      "\u001b[0;32m/var/folders/1m/wmfsxxg15h75p6f5brh_y24h0000gn/T/ipykernel_57533/3064504378.py\u001b[0m in \u001b[0;36mintersections_kdtree\u001b[0;34m(point_cloud, planes, distance_threshold)\u001b[0m\n\u001b[1;32m     11\u001b[0m \u001b[0;32mdef\u001b[0m \u001b[0mintersections_kdtree\u001b[0m\u001b[0;34m(\u001b[0m\u001b[0mpoint_cloud\u001b[0m\u001b[0;34m,\u001b[0m \u001b[0mplanes\u001b[0m\u001b[0;34m,\u001b[0m \u001b[0mdistance_threshold\u001b[0m\u001b[0;34m)\u001b[0m\u001b[0;34m:\u001b[0m\u001b[0;34m\u001b[0m\u001b[0;34m\u001b[0m\u001b[0m\n\u001b[1;32m     12\u001b[0m     \u001b[0mdownpcd\u001b[0m \u001b[0;34m=\u001b[0m \u001b[0mpoint_cloud\u001b[0m\u001b[0;34m.\u001b[0m\u001b[0mvoxel_down_sample\u001b[0m\u001b[0;34m(\u001b[0m\u001b[0mvoxel_size\u001b[0m\u001b[0;34m=\u001b[0m\u001b[0;36m0.5\u001b[0m\u001b[0;34m)\u001b[0m\u001b[0;34m\u001b[0m\u001b[0;34m\u001b[0m\u001b[0m\n\u001b[0;32m---> 13\u001b[0;31m     \u001b[0mkdtree\u001b[0m \u001b[0;34m=\u001b[0m \u001b[0mo3d\u001b[0m\u001b[0;34m.\u001b[0m\u001b[0mgeometry\u001b[0m\u001b[0;34m.\u001b[0m\u001b[0mKDTreeFlann\u001b[0m\u001b[0;34m(\u001b[0m\u001b[0mplanes\u001b[0m\u001b[0;34m)\u001b[0m\u001b[0;34m\u001b[0m\u001b[0;34m\u001b[0m\u001b[0m\n\u001b[0m\u001b[1;32m     14\u001b[0m \u001b[0;34m\u001b[0m\u001b[0m\n\u001b[1;32m     15\u001b[0m     \u001b[0;31m# Find intersection points\u001b[0m\u001b[0;34m\u001b[0m\u001b[0;34m\u001b[0m\u001b[0;34m\u001b[0m\u001b[0m\n",
      "\u001b[0;31mTypeError\u001b[0m: __init__(): incompatible constructor arguments. The following argument types are supported:\n    1. open3d.cpu.pybind.geometry.KDTreeFlann()\n    2. open3d.cpu.pybind.geometry.KDTreeFlann(data: numpy.ndarray[numpy.float64[m, n]])\n    3. open3d.cpu.pybind.geometry.KDTreeFlann(geometry: open3d.cpu.pybind.geometry.Geometry)\n    4. open3d.cpu.pybind.geometry.KDTreeFlann(feature: open3d::pipelines::registration::Feature)\n\nInvoked with: [PointCloud with 1000000 points., PointCloud with 1000000 points.]"
     ]
    },
    {
     "ename": "",
     "evalue": "",
     "output_type": "error",
     "traceback": [
      "\u001b[1;31mThe Kernel crashed while executing code in the current cell or a previous cell. \n",
      "\u001b[1;31mPlease review the code in the cell(s) to identify a possible cause of the failure. \n",
      "\u001b[1;31mClick <a href='https://aka.ms/vscodeJupyterKernelCrash'>here</a> for more info. \n",
      "\u001b[1;31mView Jupyter <a href='command:jupyter.viewOutput'>log</a> for further details."
     ]
    }
   ],
   "source": [
    "\n",
    "        \n",
    "# visualize_plane_point_cloud(rotated_pcd, [-150,0,150])\n",
    "all_planes = planes([0,50])\n",
    "intersections_kdtree(rotated_pcd, all_planes, 0.02)\n"
   ]
  },
  {
   "cell_type": "code",
   "execution_count": 19,
   "metadata": {},
   "outputs": [],
   "source": [
    "def min_y(pcd, plane):\n",
    "    plane_cloud = o3d.geometry.PointCloud()\n",
    "    plane_cloud.points = o3d.utility.Vector3dVector([[plane, y, z] for y in y_range for z in z_range])\n",
    "    distances = np.asarray(pcd.compute_point_cloud_distance(plane_cloud))\n",
    "    min_distance_index = np.argmin(distances)\n",
    "    min_point = pcd.points[min_distance_index]\n",
    "    min_y = min_point[1]\n",
    "    print(f\"Minimum y-value for plane {plane}:\", min_y)\n",
    "    return min_y"
   ]
  },
  {
   "cell_type": "code",
   "execution_count": 21,
   "metadata": {},
   "outputs": [
    {
     "name": "stdout",
     "output_type": "stream",
     "text": [
      "Minimum y-value for plane 1: -22.84284923474232\n",
      "Minimum y-value for plane 1: 11.143860948968886\n",
      "Minimum y-value for plane 1: 43.52759787225349\n",
      "Minimum y-value for plane 1: -22.572363815355644\n",
      "Minimum y-value for plane 1: -134.32227934988572\n",
      "Minimum y-value for plane 1: 8.744476354406899\n",
      "Minimum y-value for plane 1: -55.19740475477418\n"
     ]
    },
    {
     "data": {
      "text/plain": [
       "-55.19740475477418"
      ]
     },
     "execution_count": 21,
     "metadata": {},
     "output_type": "execute_result"
    }
   ],
   "source": [
    "min_y(rotated_pcd, -150)\n",
    "min_y(rotated_pcd, -100)\n",
    "min_y(rotated_pcd, -50)\n",
    "min_y(rotated_pcd, 0)\n",
    "min_y(rotated_pcd, 50)\n",
    "min_y(rotated_pcd, 100)\n",
    "min_y(rotated_pcd, 150)"
   ]
  },
  {
   "cell_type": "markdown",
   "metadata": {},
   "source": [
    "Dataset Uploading"
   ]
  },
  {
   "cell_type": "code",
   "execution_count": 18,
   "metadata": {},
   "outputs": [],
   "source": [
    "import open3d as o3d\n",
    "import numpy as np\n",
    "import matplotlib.pyplot as plt\n",
    "import copy\n",
    "import features\n",
    "import filter\n",
    "\n",
    "folder = \"Pacients\"\n",
    "number = 74\n",
    "patient = \"BR0\" + f\"{number}\"\n",
    "surface_digital_twin_path = f\"{folder}/{patient}/Surface.ply\"\n",
    "pcd = o3d.io.read_point_cloud(surface_digital_twin_path)"
   ]
  },
  {
   "cell_type": "markdown",
   "metadata": {},
   "source": [
    "Downsample"
   ]
  },
  {
   "cell_type": "code",
   "execution_count": 19,
   "metadata": {},
   "outputs": [],
   "source": [
    "voxel_down_pcd = pcd.voxel_down_sample(voxel_size=0.5)\n",
    "# o3d.visualization.draw_geometries([voxel_down_pcd])"
   ]
  },
  {
   "cell_type": "code",
   "execution_count": null,
   "metadata": {},
   "outputs": [],
   "source": [
    "\n",
    "uni_down_pcd = pcd.uniform_down_sample(every_k_points=20)\n",
    "# o3d.visualization.draw_geometries([uni_down_pcd])"
   ]
  },
  {
   "cell_type": "markdown",
   "metadata": {},
   "source": [
    "Outlier Removal"
   ]
  },
  {
   "cell_type": "code",
   "execution_count": 20,
   "metadata": {},
   "outputs": [
    {
     "name": "stdout",
     "output_type": "stream",
     "text": [
      "Showing outliers (red) and inliers (gray): \n"
     ]
    },
    {
     "data": {
      "text/plain": [
       "PointCloud with 401626 points."
      ]
     },
     "execution_count": 20,
     "metadata": {},
     "output_type": "execute_result"
    }
   ],
   "source": [
    "cl, ind = voxel_down_pcd.remove_statistical_outlier(nb_neighbors=20,\n",
    "                                                        std_ratio=1.0)\n",
    "filter.display_inlier_outlier(voxel_down_pcd, ind)"
   ]
  },
  {
   "cell_type": "code",
   "execution_count": null,
   "metadata": {},
   "outputs": [],
   "source": [
    "cl, ind = voxel_down_pcd.remove_radius_outlier(nb_points=5, radius=5)\n",
    "filter.display_inlier_outlier(voxel_down_pcd, ind)"
   ]
  },
  {
   "cell_type": "code",
   "execution_count": 21,
   "metadata": {},
   "outputs": [],
   "source": [
    "pcd_median = filter.median_filter(voxel_down_pcd, 7)"
   ]
  },
  {
   "cell_type": "code",
   "execution_count": 26,
   "metadata": {},
   "outputs": [
    {
     "name": "stdout",
     "output_type": "stream",
     "text": [
      "Showing outliers (red) and inliers (gray): \n",
      "PointCloud with 375848 points.\n"
     ]
    }
   ],
   "source": [
    "cl, ind = pcd_median.remove_statistical_outlier(nb_neighbors=100,\n",
    "                                                        std_ratio=0.5)\n",
    "inlier_cloud = filter.display_inlier_outlier(pcd_median, ind)\n",
    "print(inlier_cloud)"
   ]
  },
  {
   "cell_type": "markdown",
   "metadata": {},
   "source": [
    "2. Features Display"
   ]
  },
  {
   "cell_type": "code",
   "execution_count": 25,
   "metadata": {},
   "outputs": [
    {
     "name": "stdout",
     "output_type": "stream",
     "text": [
      "Computing Fast Points Feature Histogram...\n",
      "FPFH Done\n",
      "Feature number 0-th\n",
      "Feature number 1-th\n",
      "Feature number 2-th\n",
      "Feature number 3-th\n",
      "Feature number 4-th\n",
      "Feature number 5-th\n",
      "Feature number 6-th\n"
     ]
    }
   ],
   "source": [
    "fpfh_digital_twin = features.fpfh(inlier_cloud, 0.5)\n",
    "features.save_feature_image(inlier_cloud, fpfh_digital_twin, 0.5, \"Features\", patient)"
   ]
  },
  {
   "cell_type": "code",
   "execution_count": null,
   "metadata": {},
   "outputs": [],
   "source": []
  }
 ],
 "metadata": {
  "kernelspec": {
   "display_name": "Python 3",
   "language": "python",
   "name": "python3"
  },
  "language_info": {
   "codemirror_mode": {
    "name": "ipython",
    "version": 3
   },
   "file_extension": ".py",
   "mimetype": "text/x-python",
   "name": "python",
   "nbconvert_exporter": "python",
   "pygments_lexer": "ipython3",
   "version": "3.7.4"
  }
 },
 "nbformat": 4,
 "nbformat_minor": 2
}
